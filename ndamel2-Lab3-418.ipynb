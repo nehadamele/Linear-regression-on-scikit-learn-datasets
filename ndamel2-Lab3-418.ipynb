{
 "cells": [
  {
   "cell_type": "markdown",
   "metadata": {},
   "source": [
    "# Lab 3: Scikit Learn and Regression"
   ]
  },
  {
   "cell_type": "markdown",
   "metadata": {},
   "source": [
    "Deadline Wednesday 11/10/21  11:59 pm "
   ]
  },
  {
   "cell_type": "markdown",
   "metadata": {},
   "source": [
    "**scikit-learn** is a popular machine learning package that contains a variety of models and tools. In this lab and lab 4 we will work with different models provided by **scikit-learn** package and build several models.\n",
    "\n",
    "All objects within scikitt-learn share a uniform common basic API consisting of 3 interfaces: an _estimator_ interface for building and fitting models, a _predictor_ interface for making predictions, and a _transformer_ interface for converting data.\n",
    "\n",
    ">The _estimator_  interface defines object mechanism and a fit method for learning a model from training data. All supervised and unsupervised learning algorithms are offered as objects implementing this interface. Other machine learning tasks such as _feature extraction_, _feature selection_, and _dimensionality reduction_ are provided as _estimators_. \n",
    "\n",
    "For more information, check the scikit-learn API paper: [https://arxiv.org/pdf/1309.0238v1.pdf]\n",
    "\n",
    "The general form of using models in scikit-learn:\n"
   ]
  },
  {
   "cell_type": "markdown",
   "metadata": {},
   "source": [
    "```\n",
    "clf = someModel( )\n",
    "clf.fit(x_train , y_tain)\n",
    "```"
   ]
  },
  {
   "cell_type": "markdown",
   "metadata": {},
   "source": [
    "For Example: \n",
    "\n",
    "```\n",
    "clf = LinearSVC( )\n",
    "clf.fit(x_train , y_tain)\n",
    "```"
   ]
  },
  {
   "cell_type": "markdown",
   "metadata": {},
   "source": [
    ">The _predictor_ adds a predict method that takes an array x_test and produces predictions for x_test, based on the learned parameters of the _estimator_. In supervised learning, this method typically return predicted labels or values computed by the model. Some unsupervised learning estimators may also implement the predict interface, such as __k-means__, where the predicted values are the cluster labels.\n",
    "\n",
    "```\n",
    "clf.predict(x_test)\n",
    "```"
   ]
  },
  {
   "cell_type": "markdown",
   "metadata": {},
   "source": [
    ">_transform_ method is used to modify or filter data before feeding it to a learning algorithm. It takes some new data as input and outputs a transformed version of that data. Preprocessing, feature selection, feature extraction and dimensionality reduction algorithms are all provided as _transformers_ within the library. \n",
    "\n",
    "This is usually done with __fit_transform__ method. For example: "
   ]
  },
  {
   "cell_type": "markdown",
   "metadata": {},
   "source": [
    "```\n",
    "PCA = RandomizedPCA (n_components = 2) \n",
    "x_train = PCA.fit_transform(x_train)\n",
    "x_test = PCA.fit_transform(x_test)\n",
    "\n",
    "```"
   ]
  },
  {
   "cell_type": "markdown",
   "metadata": {},
   "source": [
    "In the example above, we first __fit__ the training set to find the PC components, then they are transformed. "
   ]
  },
  {
   "cell_type": "markdown",
   "metadata": {},
   "source": [
    "We can summarize the _estimator_ as follows:\n",
    "\n",
    "* In _all estimators_\n",
    "    - `model.fit()` : fit training data. In supervised learning, fit will take two parameters: the data x and labels y. In unsupervised learning, fit will take a single parameter: the data x\n",
    "\n",
    "* In _supervised estimators_\n",
    "    - `model.predict()` : predict the label of new test data for the given model. Predict takes one parameter: the new test data and returns the learned label for each item in the test data \n",
    "    - `model.score()` : Returns the score method for classification or regression methods.\n",
    "\n",
    "* In _unsupervised estimators_\n",
    "\n",
    "    - `model.transform()`: Tranform new data into new basis. Transform takes one parameter: new data and returns a new representation of that data based on the model\n",
    "  \n",
    "    "
   ]
  },
  {
   "cell_type": "markdown",
   "metadata": {},
   "source": []
  },
  {
   "cell_type": "markdown",
   "metadata": {},
   "source": []
  },
  {
   "cell_type": "markdown",
   "metadata": {},
   "source": [
    "\n",
    "### Linear Regression"
   ]
  },
  {
   "cell_type": "markdown",
   "metadata": {},
   "source": [
    "Let's start with a simple linear regression. First we will see an example of a simple linear regression. A simple straight line that fits the data. The formula representing the model is $$y = \\beta_1 x +  \\beta_0$$"
   ]
  },
  {
   "cell_type": "code",
   "execution_count": 1,
   "metadata": {},
   "outputs": [],
   "source": [
    "%matplotlib inline\n",
    "import matplotlib.pyplot as plt\n",
    "import seaborn as sns; sns.set()\n",
    "import numpy as np\n",
    "import pandas as pd"
   ]
  },
  {
   "cell_type": "markdown",
   "metadata": {},
   "source": [
    "Let's start by using the following simple data for showing how linear regression works in scikit-learn. Then it will be your turn to build a regression model on a dataset"
   ]
  },
  {
   "cell_type": "code",
   "execution_count": 2,
   "metadata": {},
   "outputs": [
    {
     "data": {
      "text/plain": [
       "<matplotlib.collections.PathCollection at 0x2641588dc70>"
      ]
     },
     "execution_count": 2,
     "metadata": {},
     "output_type": "execute_result"
    },
    {
     "data": {
      "image/png": "[encoded data removed]",
      "text/plain": [
       "<Figure size 432x288 with 1 Axes>"
      ]
     },
     "metadata": {},
     "output_type": "display_data"
    }
   ],
   "source": [
    "rng = np.random.RandomState(50)\n",
    "\n",
    "x = 10 * rng.rand(80)\n",
    "y = 2 * x - 1 + rng.randn(80)\n",
    "\n",
    "plt.scatter(x,y)"
   ]
  },
  {
   "cell_type": "markdown",
   "metadata": {},
   "source": [
    "After processing your data, the first step is to choose a model. For the dataset above, we are going to pick \"Linear Regression\" model. Simply import your model:"
   ]
  },
  {
   "cell_type": "code",
   "execution_count": 3,
   "metadata": {},
   "outputs": [],
   "source": [
    "from sklearn.linear_model import LinearRegression"
   ]
  },
  {
   "cell_type": "markdown",
   "metadata": {},
   "source": [
    "Next, pick the model hyperparameters"
   ]
  },
  {
   "cell_type": "code",
   "execution_count": 4,
   "metadata": {},
   "outputs": [
    {
     "data": {
      "image/png": "[encoded data removed]",
      "text/plain": [
       "<Figure size 432x288 with 1 Axes>"
      ]
     },
     "metadata": {},
     "output_type": "display_data"
    }
   ],
   "source": [
    "\n",
    "model = LinearRegression(fit_intercept=True)\n",
    "\n",
    "model.fit(x[:, np.newaxis], y)\n",
    "\n",
    "xfit = np.linspace(0, 10, 1000)\n",
    "yfit = model.predict(xfit[:, np.newaxis])\n",
    "\n",
    "plt.scatter(x, y)\n",
    "plt.plot(xfit, yfit);"
   ]
  },
  {
   "cell_type": "markdown",
   "metadata": {},
   "source": [
    "We can check the model settings: "
   ]
  },
  {
   "cell_type": "code",
   "execution_count": 5,
   "metadata": {},
   "outputs": [
    {
     "name": "stdout",
     "output_type": "stream",
     "text": [
      "1.944535887214308\n",
      "-0.8492545699739527\n"
     ]
    }
   ],
   "source": [
    "print(model.coef_[0])\n",
    "print(model.intercept_)"
   ]
  },
  {
   "cell_type": "markdown",
   "metadata": {},
   "source": [
    "### Linear regression on scikit-learn datasets\n",
    "\n",
    "You can use datasets provided by scikit-learn as well. In the example below, we will apply linear regression to the **diabetes** dataset.\n",
    "\n",
    "In the diabetes datasets, ten baseline variables; age, sex, body mass index, average blood pressure, and six blood serum measurements were obtained for each of n = 442 diabetes patients, as well as the response of interest, a quantitative measure of disease progression one year after baseline."
   ]
  },
  {
   "cell_type": "code",
   "execution_count": null,
   "metadata": {},
   "outputs": [],
   "source": []
  },
  {
   "cell_type": "code",
   "execution_count": 6,
   "metadata": {},
   "outputs": [
    {
     "name": "stdout",
     "output_type": "stream",
     "text": [
      "Coefficients: \n",
      " [962.98906799]\n",
      "Mean squared error: 4249.40\n",
      "R-squared: 0.27\n"
     ]
    },
    {
     "data": {
      "image/png": "[encoded data removed]",
      "text/plain": [
       "<Figure size 432x288 with 1 Axes>"
      ]
     },
     "metadata": {},
     "output_type": "display_data"
    }
   ],
   "source": [
    "# Importing diabetes dataset\n",
    "from sklearn.datasets import load_diabetes\n",
    "\n",
    "from sklearn.model_selection import train_test_split\n",
    "from sklearn.metrics import mean_squared_error, r2_score\n",
    "\n",
    "\n",
    "# Load the diabetes dataset\n",
    "diabetes = load_diabetes()\n",
    "\n",
    "# Use only one feature -- the following code creates a 1-dimensional \n",
    "# array containing just the second feature\n",
    "diabetes_X = diabetes.data[:, np.newaxis]\n",
    "diabetes_X_data = diabetes_X[:,:,2]\n",
    "\n",
    "# Split the data into training/testing sets\n",
    "diabetes_X_train,diabetes_X_test , diabetes_y_train, diabetes_y_test = train_test_split(\n",
    "                                     diabetes_X_data, diabetes.target, test_size = 0.15 )\n",
    "\n",
    "\n",
    "# Create linear regression object\n",
    "m1 = LinearRegression()\n",
    "\n",
    "\n",
    "# Train the model with training data \n",
    "m1.fit(diabetes_X_train, diabetes_y_train)\n",
    "\n",
    "# Make predictions on test data \n",
    "diabetes_y_pred = m1.predict(diabetes_X_test)\n",
    "\n",
    "#print the coefficient \n",
    "print('Coefficients: \\n', m1.coef_)\n",
    "\n",
    "#print the mean squared error\n",
    "print('Mean squared error: %.2f'% mean_squared_error(diabetes_y_test, diabetes_y_pred))\n",
    "\n",
    "\n",
    "# print the r-squared\n",
    "print('R-squared: %.2f' % r2_score(diabetes_y_test, diabetes_y_pred))\n",
    "\n",
    "\n",
    "# Plot \n",
    "plt.scatter(diabetes_X_test, diabetes_y_test,  color='red')\n",
    "plt.plot(diabetes_X_test, diabetes_y_pred, color='blue', linewidth=2)\n",
    "\n",
    "plt.xticks(())\n",
    "plt.yticks(())\n",
    "\n",
    "plt.show()\n"
   ]
  },
  {
   "cell_type": "markdown",
   "metadata": {},
   "source": [
    "As you can see, the prediction is not very good. Maybe we can try something different!"
   ]
  },
  {
   "cell_type": "markdown",
   "metadata": {},
   "source": [
    "#### Exercise 3.1 ( 15 pts)\n",
    "\n",
    "Run the linear regression on diabetes data with **all the features** in the dataset. \n",
    "Calculate the mean squared error and compare the two models. Did using all available features improve the performance ?"
   ]
  },
  {
   "cell_type": "code",
   "execution_count": 7,
   "metadata": {},
   "outputs": [
    {
     "data": {
      "text/plain": [
       "((442, 10), (442,))"
      ]
     },
     "execution_count": 7,
     "metadata": {},
     "output_type": "execute_result"
    }
   ],
   "source": [
    "#Your code goes here\n",
    "X = diabetes.data\n",
    "Y = diabetes.target\n",
    "X.shape, Y.shape"
   ]
  },
  {
   "cell_type": "markdown",
   "metadata": {},
   "source": [
    "**Splitting the data into training/testing sets**"
   ]
  },
  {
   "cell_type": "code",
   "execution_count": 8,
   "metadata": {},
   "outputs": [],
   "source": [
    "X_train, X_test, Y_train, Y_test = train_test_split(X, Y, test_size=0.15)"
   ]
  },
  {
   "cell_type": "markdown",
   "metadata": {},
   "source": [
    "**Data dimension**"
   ]
  },
  {
   "cell_type": "code",
   "execution_count": 9,
   "metadata": {},
   "outputs": [
    {
     "data": {
      "text/plain": [
       "((375, 10), (375,), (67, 10), (67,))"
      ]
     },
     "execution_count": 9,
     "metadata": {},
     "output_type": "execute_result"
    }
   ],
   "source": [
    "X_train.shape, Y_train.shape, X_test.shape, Y_test.shape"
   ]
  },
  {
   "cell_type": "markdown",
   "metadata": {},
   "source": [
    "**Creating linear regression object**"
   ]
  },
  {
   "cell_type": "code",
   "execution_count": 10,
   "metadata": {},
   "outputs": [],
   "source": [
    "m2 = LinearRegression()"
   ]
  },
  {
   "cell_type": "markdown",
   "metadata": {},
   "source": [
    "**Training the model with training data**"
   ]
  },
  {
   "cell_type": "code",
   "execution_count": 11,
   "metadata": {
    "scrolled": true
   },
   "outputs": [
    {
     "data": {
      "text/plain": [
       "LinearRegression()"
      ]
     },
     "execution_count": 11,
     "metadata": {},
     "output_type": "execute_result"
    }
   ],
   "source": [
    "m2.fit(X_train, Y_train)"
   ]
  },
  {
   "cell_type": "markdown",
   "metadata": {},
   "source": [
    "**Make predictions on test data**"
   ]
  },
  {
   "cell_type": "code",
   "execution_count": 12,
   "metadata": {},
   "outputs": [],
   "source": [
    "Y_pred = m2.predict(X_test)"
   ]
  },
  {
   "cell_type": "markdown",
   "metadata": {},
   "source": [
    "### Prediction results ###"
   ]
  },
  {
   "cell_type": "markdown",
   "metadata": {},
   "source": [
    "**Print the coefficient**"
   ]
  },
  {
   "cell_type": "code",
   "execution_count": 13,
   "metadata": {},
   "outputs": [
    {
     "name": "stdout",
     "output_type": "stream",
     "text": [
      "Coefficients: \n",
      " [ -43.23284921 -237.42063948  498.59106427  291.25380425 -870.416702\n",
      "  606.74529534   50.51141192   24.7980083   873.18170792   77.72217657]\n"
     ]
    }
   ],
   "source": [
    "print('Coefficients: \\n', m2.coef_)"
   ]
  },
  {
   "cell_type": "markdown",
   "metadata": {},
   "source": [
    "**Print the mean squared error**"
   ]
  },
  {
   "cell_type": "code",
   "execution_count": 14,
   "metadata": {},
   "outputs": [
    {
     "name": "stdout",
     "output_type": "stream",
     "text": [
      "Mean squared error: 3340.47\n"
     ]
    }
   ],
   "source": [
    "print('Mean squared error: %.2f'% mean_squared_error(Y_test, Y_pred))\n"
   ]
  },
  {
   "cell_type": "markdown",
   "metadata": {},
   "source": [
    "**Print the r-squared**"
   ]
  },
  {
   "cell_type": "code",
   "execution_count": 15,
   "metadata": {},
   "outputs": [
    {
     "name": "stdout",
     "output_type": "stream",
     "text": [
      "R-squared: 0.45\n"
     ]
    }
   ],
   "source": [
    "print('R-squared: %.2f' % r2_score(Y_test, Y_pred))"
   ]
  },
  {
   "cell_type": "code",
   "execution_count": 16,
   "metadata": {},
   "outputs": [
    {
     "data": {
      "text/plain": [
       "((67, 10), (67,), (67,))"
      ]
     },
     "execution_count": 16,
     "metadata": {},
     "output_type": "execute_result"
    }
   ],
   "source": [
    "X_test.shape, Y_test.shape, Y_pred.shape"
   ]
  },
  {
   "cell_type": "markdown",
   "metadata": {},
   "source": [
    "**Plot**"
   ]
  },
  {
   "cell_type": "code",
   "execution_count": 17,
   "metadata": {},
   "outputs": [
    {
     "data": {
      "text/plain": [
       "Text(0, 0.5, 'predicted data')"
      ]
     },
     "execution_count": 17,
     "metadata": {},
     "output_type": "execute_result"
    },
    {
     "data": {
      "image/png": "[encoded data removed]",
      "text/plain": [
       "<Figure size 432x288 with 1 Axes>"
      ]
     },
     "metadata": {},
     "output_type": "display_data"
    }
   ],
   "source": [
    "plt.scatter(Y_test,Y_pred)\n",
    "plt.xlabel('old data')\n",
    "plt.ylabel('predicted data')"
   ]
  },
  {
   "cell_type": "markdown",
   "metadata": {},
   "source": [
    "***CONCLUSION***\n",
    "\n",
    "-The smaller the mean squared error, the closer you are to finding the line of best fit.\n",
    "\n",
    "==>Performance improved using all the features as compared to using single feature as mean square error decreased.\n",
    "___________________________________________________________________________________________________________________________"
   ]
  },
  {
   "cell_type": "markdown",
   "metadata": {},
   "source": [
    "Feature selection allows your estimator to perform a better job by decreasing the model complexity and overfitting.\n",
    "scikit-learn provides several feature selection methods such as `SelectKBest` and `RFE`. Here is an example of using `RFE` or [Recursive feature elimination](https://scikit-learn.org/stable/modules/generated/sklearn.feature_selection.RFE.html#sklearn.feature_selection.RFE) on diabetes dataset:"
   ]
  },
  {
   "cell_type": "code",
   "execution_count": 18,
   "metadata": {},
   "outputs": [
    {
     "name": "stdout",
     "output_type": "stream",
     "text": [
      "[7 5 1 4 2 3 8 9 1 6]\n"
     ]
    }
   ],
   "source": [
    "from sklearn.feature_selection import RFE\n",
    "\n",
    "# Note that this piece of code works with training data and model from Exercise 3.1\n",
    "# Either choose the same name for your variables or change the variable names below\n",
    "\n",
    "rfe = RFE(estimator = m2 , n_features_to_select = 2 , step = 1)\n",
    "fit_rfe = rfe.fit(X_train, Y_train)\n",
    "print(fit_rfe.ranking_)"
   ]
  },
  {
   "cell_type": "markdown",
   "metadata": {},
   "source": [
    "#### Exercise 3.2 (20 pts)\n",
    "\n",
    "Calculate and print the mean squared error using two features. Which model performs better? (the more complex one with all features, or the simpler model using fewer features)\n",
    "(Note that `RFE` has a predict function you can use)\n",
    "\n"
   ]
  },
  {
   "cell_type": "markdown",
   "metadata": {},
   "source": [
    "**Using RFE predict**"
   ]
  },
  {
   "cell_type": "code",
   "execution_count": 19,
   "metadata": {},
   "outputs": [],
   "source": [
    "# Your code goes here \n",
    "Y_pred = fit_rfe.predict(X_test)"
   ]
  },
  {
   "cell_type": "code",
   "execution_count": 20,
   "metadata": {},
   "outputs": [
    {
     "data": {
      "text/plain": [
       "((67,), (67,))"
      ]
     },
     "execution_count": 20,
     "metadata": {},
     "output_type": "execute_result"
    }
   ],
   "source": [
    "Y_pred.shape, Y_test.shape"
   ]
  },
  {
   "cell_type": "markdown",
   "metadata": {},
   "source": [
    "**Prediction results**"
   ]
  },
  {
   "cell_type": "code",
   "execution_count": 21,
   "metadata": {},
   "outputs": [
    {
     "name": "stdout",
     "output_type": "stream",
     "text": [
      "Mean squared error: 3643.24\n",
      "R-squared: 0.40\n"
     ]
    }
   ],
   "source": [
    "print('Mean squared error: %.2f'% mean_squared_error(Y_test, Y_pred))\n",
    "\n",
    "print('R-squared: %.2f' % r2_score(Y_test, Y_pred))"
   ]
  },
  {
   "cell_type": "markdown",
   "metadata": {},
   "source": [
    "**Conclusion**"
   ]
  },
  {
   "cell_type": "markdown",
   "metadata": {},
   "source": [
    "The model using the selected 2 features did not perform better than the model using all the features."
   ]
  },
  {
   "cell_type": "markdown",
   "metadata": {},
   "source": [
    "### Linear regression on the Boston house price dataset\n",
    "\n",
    "Now it's your turn to perform a linear regression on the Boston housing dataset."
   ]
  },
  {
   "cell_type": "markdown",
   "metadata": {},
   "source": [
    "#### Exercise 3.3 ( 20 pts)\n",
    "\n",
    "Train a set of linear regression models to predict the house prices for boston house dataset. You should use all the available features and train multiple linear regression models for:\n",
    "\n",
    "* a) 30% training, 70% testing \n",
    "* b) 50% training, 50% testing\n",
    "* c) 70% training, 30% testing\n",
    "* d) 80% training, 20% testing\n",
    "\n",
    "Plot the mean squared error for all models. "
   ]
  },
  {
   "cell_type": "markdown",
   "metadata": {},
   "source": [
    "**Loading dataset**"
   ]
  },
  {
   "cell_type": "code",
   "execution_count": 22,
   "metadata": {},
   "outputs": [],
   "source": [
    "from sklearn.datasets import load_boston\n",
    "boston = load_boston()\n",
    "\n",
    "df_x = pd.DataFrame(boston.data, columns = boston.feature_names)\n",
    "df_y = pd.DataFrame(boston.target)"
   ]
  },
  {
   "cell_type": "markdown",
   "metadata": {},
   "source": [
    "**Training multiple linear regression models for the given train-test split**"
   ]
  },
  {
   "cell_type": "code",
   "execution_count": 23,
   "metadata": {},
   "outputs": [
    {
     "name": "stdout",
     "output_type": "stream",
     "text": [
      "[25.69, 25.18, 21.52, 24.29]\n"
     ]
    }
   ],
   "source": [
    "test_size_array = [0.70, 0.50, 0.30, 0.20]\n",
    "mean_squared_error1 = []\n",
    "for index in test_size_array:\n",
    "    bxt , bxtest, byt, bytest = train_test_split(df_x, df_y, test_size = index, random_state = 42)\n",
    "    m4 = LinearRegression()\n",
    "    m4.fit(bxt, byt)\n",
    "    y_pred = m4.predict(bxtest)\n",
    "    MSE = np.square(np.subtract(bytest,y_pred)).mean()\n",
    "    mean_squared_error1.append(round(MSE[0],2))    \n",
    "    \n",
    "print(mean_squared_error1)"
   ]
  },
  {
   "cell_type": "markdown",
   "metadata": {},
   "source": [
    "**Plotting the mean squared error for all models**"
   ]
  },
  {
   "cell_type": "code",
   "execution_count": 24,
   "metadata": {},
   "outputs": [
    {
     "data": {
      "text/plain": [
       "Text(0.5, 1.0, 'Mean squared error for all models')"
      ]
     },
     "execution_count": 24,
     "metadata": {},
     "output_type": "execute_result"
    },
    {
     "data": {
      "image/png": "[encoded data removed]",
      "text/plain": [
       "<Figure size 432x288 with 1 Axes>"
      ]
     },
     "metadata": {},
     "output_type": "display_data"
    }
   ],
   "source": [
    "plt.bar(test_size_array, mean_squared_error1, width = 0.05)\n",
    "plt.xlabel(\"Test Data (x/100)\")\n",
    "plt.ylabel(\"Mean squared error\")\n",
    "plt.title(\"Mean squared error for all models\")"
   ]
  },
  {
   "cell_type": "markdown",
   "metadata": {},
   "source": [
    " #### Exercise 3.4  ( 45 pts)\n",
    " \n",
    "Use `RFE` to find the best set of features for prediction. What are they? \n",
    "(Note that in order to find the best set of features for prediction, you need to consider all possible combinations, from 1 to d features, calculate the MSE for each one and pick the set of features that give you the min MSE)\n",
    "\n",
    "\n",
    "Use the same train-test splits from 3.3, to train new models with the best set of features for prediction. Plot the mean squared error for each linear regression models and given train-test split."
   ]
  },
  {
   "cell_type": "code",
   "execution_count": 25,
   "metadata": {},
   "outputs": [],
   "source": [
    "from sklearn.datasets import load_boston\n",
    "boston = load_boston()\n",
    "\n",
    "df_x = pd.DataFrame(boston.data, columns = boston.feature_names)\n",
    "df_y = pd.DataFrame(boston.target)"
   ]
  },
  {
   "cell_type": "markdown",
   "metadata": {},
   "source": [
    "**Splitting our test data and training data in 20% and 80% of our whole dataset**"
   ]
  },
  {
   "cell_type": "code",
   "execution_count": 26,
   "metadata": {},
   "outputs": [
    {
     "data": {
      "text/plain": [
       "LinearRegression()"
      ]
     },
     "execution_count": 26,
     "metadata": {},
     "output_type": "execute_result"
    }
   ],
   "source": [
    "bxt , bxtest, byt, bytest = train_test_split(df_x, df_y, test_size = 0.20, random_state = 42 )\n",
    "m5 = LinearRegression()\n",
    "m5.fit(bxt, byt)"
   ]
  },
  {
   "cell_type": "code",
   "execution_count": 27,
   "metadata": {},
   "outputs": [
    {
     "name": "stdout",
     "output_type": "stream",
     "text": [
      "(506, 13)\n",
      "(506, 1)\n"
     ]
    }
   ],
   "source": [
    "print(df_x.shape)\n",
    "print(df_y.shape)"
   ]
  },
  {
   "cell_type": "markdown",
   "metadata": {},
   "source": [
    "**Using RFE to find the best set of features for prediction, considering all possible combinations, from 1 to 13 features**"
   ]
  },
  {
   "cell_type": "code",
   "execution_count": 28,
   "metadata": {},
   "outputs": [
    {
     "name": "stdout",
     "output_type": "stream",
     "text": [
      "MSE, when number of feature is 1: 58.29\n",
      "MSE, when number of feature is 2: 40.06\n",
      "MSE, when number of feature is 3: 39.57\n",
      "MSE, when number of feature is 4: 33.9\n",
      "MSE, when number of feature is 5: 33.5\n",
      "MSE, when number of feature is 6: 24.97\n",
      "MSE, when number of feature is 7: 26.06\n",
      "MSE, when number of feature is 8: 24.98\n",
      "MSE, when number of feature is 9: 24.7\n",
      "MSE, when number of feature is 10: 23.8\n",
      "MSE, when number of feature is 11: 25.32\n",
      "MSE, when number of feature is 12: 24.18\n",
      "MSE, when number of feature is 13: 24.29\n",
      "\n",
      "\n",
      "No. of features and mean_squared_error: \n",
      "{1: 58.29, 2: 40.06, 3: 39.57, 4: 33.9, 5: 33.5, 6: 24.97, 7: 26.06, 8: 24.98, 9: 24.7, 10: 23.8, 11: 25.32, 12: 24.18, 13: 24.29} \n",
      "\n",
      "Number of best set of features  10\n"
     ]
    }
   ],
   "source": [
    "mean_squared_error = {}\n",
    "MIN = 1\n",
    "for index in range(1,14):\n",
    "    rfe = RFE(estimator = m5 , n_features_to_select = index , step = 1)\n",
    "    fit_rfe = rfe.fit(bxt, byt)\n",
    "    Y_pred = fit_rfe.predict(bxtest)\n",
    "    MSE = np.square(np.subtract(bytest,Y_pred)).mean()\n",
    "    mean_squared_error[index] = round(MSE[0],2)\n",
    "    print(f'MSE, when number of feature is {index}: {round(MSE[0],2)}')\n",
    "    \n",
    "print('\\n')\n",
    "print('No. of features and mean_squared_error: ')\n",
    "print(mean_squared_error ,'\\n')\n",
    "\n",
    "print('Number of best set of features ',min(mean_squared_error, key=mean_squared_error.get))\n",
    "\n",
    "#to find the min mean_squared_error\n",
    "n_features_to_select = min(mean_squared_error, key=mean_squared_error.get)"
   ]
  },
  {
   "cell_type": "markdown",
   "metadata": {},
   "source": [
    "**Plotting Mean Squared Error(MSE) on the graph**"
   ]
  },
  {
   "cell_type": "code",
   "execution_count": 29,
   "metadata": {},
   "outputs": [
    {
     "data": {
      "text/plain": [
       "[<matplotlib.lines.Line2D at 0x26417c09be0>]"
      ]
     },
     "execution_count": 29,
     "metadata": {},
     "output_type": "execute_result"
    },
    {
     "data": {
      "image/png": "[encoded data removed]",
      "text/plain": [
       "<Figure size 432x288 with 1 Axes>"
      ]
     },
     "metadata": {},
     "output_type": "display_data"
    }
   ],
   "source": [
    "plt.plot(*zip(*sorted(mean_squared_error.items())))"
   ]
  },
  {
   "cell_type": "markdown",
   "metadata": {},
   "source": [
    "**Selecting the best set of features for prediction that gave the min MSE**"
   ]
  },
  {
   "cell_type": "code",
   "execution_count": 30,
   "metadata": {},
   "outputs": [],
   "source": [
    "rfe = RFE(estimator = m5 , n_features_to_select = n_features_to_select , step = 1)\n",
    "fit_rfe = rfe.fit(bxt, byt)\n",
    "selected_features = fit_rfe.transform(df_x)"
   ]
  },
  {
   "cell_type": "markdown",
   "metadata": {},
   "source": [
    "**Listing the best set of features for prediction using RFE**"
   ]
  },
  {
   "cell_type": "code",
   "execution_count": 31,
   "metadata": {},
   "outputs": [
    {
     "name": "stdout",
     "output_type": "stream",
     "text": [
      "Ranking of the feature:  [1 1 1 1 1 1 4 1 1 3 1 2 1]\n",
      "\n",
      "\n",
      "Original feature List: \n",
      " ['CRIM' 'ZN' 'INDUS' 'CHAS' 'NOX' 'RM' 'AGE' 'DIS' 'RAD' 'TAX' 'PTRATIO'\n",
      " 'B' 'LSTAT']\n",
      "\n",
      "\n",
      "Best set of features for prediction using RFE:\n",
      " \n",
      "CRIM\n",
      "ZN\n",
      "INDUS\n",
      "CHAS\n",
      "NOX\n",
      "RM\n",
      "DIS\n",
      "RAD\n",
      "PTRATIO\n",
      "LSTAT\n"
     ]
    }
   ],
   "source": [
    "ranking_array = fit_rfe.ranking_\n",
    "print('Ranking of the feature: ', ranking_array)\n",
    "print('\\n')\n",
    "\n",
    "features = boston.feature_names\n",
    "print('Original feature List: \\n',features)\n",
    "print('\\n')\n",
    "\n",
    "print('Best set of features for prediction using RFE:\\n ')\n",
    "\n",
    "for index in range(13):\n",
    "    if ranking_array[index]==1:\n",
    "        print(features[index])"
   ]
  },
  {
   "cell_type": "markdown",
   "metadata": {},
   "source": [
    "**Training new models with the best set of features for prediction**"
   ]
  },
  {
   "cell_type": "code",
   "execution_count": 32,
   "metadata": {},
   "outputs": [
    {
     "name": "stdout",
     "output_type": "stream",
     "text": [
      "[25.77, 25.92, 21.93, 23.8]\n"
     ]
    }
   ],
   "source": [
    "test_size_array = [0.70, 0.50, 0.30, 0.20]\n",
    "mean_squared_error1 = []\n",
    "for index in test_size_array:\n",
    "    bxt , bxtest, byt, bytest = train_test_split(selected_features, df_y, test_size = index, random_state = 42)\n",
    "    m4 = LinearRegression()\n",
    "    m4.fit(bxt, byt)\n",
    "    y_pred = m4.predict(bxtest)\n",
    "    MSE = np.square(np.subtract(bytest,y_pred)).mean()\n",
    "    mean_squared_error1.append(round(MSE[0],2))    \n",
    "    \n",
    "print(mean_squared_error1)"
   ]
  },
  {
   "cell_type": "markdown",
   "metadata": {},
   "source": [
    "**Plotting the mean squared error for each linear regression models and given train-test split**"
   ]
  },
  {
   "cell_type": "code",
   "execution_count": 33,
   "metadata": {
    "scrolled": true
   },
   "outputs": [
    {
     "data": {
      "text/plain": [
       "Text(0.5, 1.0, 'Mean squared error for all models')"
      ]
     },
     "execution_count": 33,
     "metadata": {},
     "output_type": "execute_result"
    },
    {
     "data": {
      "image/png": "[encoded data removed]",
      "text/plain": [
       "<Figure size 432x288 with 1 Axes>"
      ]
     },
     "metadata": {},
     "output_type": "display_data"
    }
   ],
   "source": [
    "plt.bar(test_size_array, mean_squared_error1, width = 0.05)\n",
    "plt.xlabel(\"Test Data (x/100)\")\n",
    "plt.ylabel(\"Mean squared error\")\n",
    "plt.title(\"Mean squared error for all models\")"
   ]
  },
  {
   "cell_type": "code",
   "execution_count": null,
   "metadata": {},
   "outputs": [],
   "source": []
  }
 ],
 "metadata": {
  "kernelspec": {
   "display_name": "Python 3",
   "language": "python",
   "name": "python3"
  },
  "language_info": {
   "codemirror_mode": {
    "name": "ipython",
    "version": 3
   },
   "file_extension": ".py",
   "mimetype": "text/x-python",
   "name": "python",
   "nbconvert_exporter": "python",
   "pygments_lexer": "ipython3",
   "version": "3.8.8"
  }
 },
 "nbformat": 4,
 "nbformat_minor": 2
}
